{
 "cells": [
  {
   "cell_type": "markdown",
   "metadata": {},
   "source": [
    "# Wavelet denoising\n",
    "\n",
    "author: laquitainesteeve@gmail.com\n",
    "\n",
    "Dataset:\n",
    "* 60 secs synthetic extracellular recording trace\n",
    "\n",
    "Pipeline:\n",
    "* Stationary wavelet Transform (translation invariant)\n",
    "* Haar wavelet\n",
    "* Hard thresholding of detail coefficients\n",
    "* Universal threshold\n",
    "* High-pass filtering by zero-ing approximation coefficients from a 5-level decomposition of a 16Khz sampling freq.\n",
    "    * Cutoff frequency: 250.0 Hz"
   ]
  },
  {
   "cell_type": "code",
   "execution_count": 1,
   "metadata": {},
   "outputs": [],
   "source": [
    "import numpy as np\n",
    "import os\n",
    "from scipy.signal import detrend\n",
    "from sklearn.preprocessing import MinMaxScaler\n",
    "from pywt import Wavelet, threshold, wavedec, waverec\n",
    "import pywt\n",
    "from matplotlib import pyplot as plt\n",
    "from scipy import signal"
   ]
  },
  {
   "cell_type": "markdown",
   "metadata": {},
   "source": [
    "### Create custom functions"
   ]
  },
  {
   "cell_type": "code",
   "execution_count": 2,
   "metadata": {},
   "outputs": [],
   "source": [
    "def NearestEvenInteger(n):\n",
    "    \"\"\"! Returns the nearest even integer to number n.\n",
    "\n",
    "    @param n Input number for which one requires the nearest even integer\n",
    "\n",
    "    @return The even nearest integer to the input number\n",
    "    \"\"\"\n",
    "    if n % 2 == 0:\n",
    "        res = n\n",
    "    else:\n",
    "        res = n - 1\n",
    "    return res\n",
    "\n",
    "\n",
    "def std(trace, nlevel=5):\n",
    "    \"\"\"Estimates the standard deviation of the input trace for rescaling\n",
    "    the Wavelet's coefficients.\n",
    "\n",
    "    Returns\n",
    "        Standard deviation of the input trace as (1D ndarray)\n",
    "    \"\"\"\n",
    "    sigma = np.array([1.4825 * np.median(np.abs(trace[i])) for i in range(nlevel)])\n",
    "    return sigma\n",
    "\n",
    "\n",
    "def mad(x):\n",
    "    \"\"\"Mean absolute deviation\"\"\"\n",
    "    return 1.482579 * np.median(np.abs(x - np.median(x)))\n",
    "\n",
    "\n",
    "def get_universal_threshold(trace):\n",
    "    num_samples = len(trace)\n",
    "    sd = mad(trace)\n",
    "    return sd * np.sqrt(2 * np.log(num_samples))\n",
    "\n",
    "\n",
    "def get_han_threshold(trace: np.array, sigma: np.array, coeffs: np.array, nlevels: int):\n",
    "\n",
    "    # count samples\n",
    "    num_samples = len(trace)\n",
    "\n",
    "    # han et al threshold\n",
    "    details_threshs = np.array([np.nan] * len(coeffs[1:]))\n",
    "\n",
    "    # threshold for first detail coeff d_i=0\n",
    "    details_threshs[0] = sigma[1] * np.sqrt(2 * np.log(num_samples))\n",
    "\n",
    "    # threshold from 1 < d_i < NLEVELS\n",
    "    for d_i in range(1, nlevels - 1):\n",
    "        details_threshs[d_i] = (sigma[d_i] * np.sqrt(2 * np.log(num_samples))) / np.log(\n",
    "            d_i + 1\n",
    "        )\n",
    "    # threhsold for d_i = nlevels\n",
    "    details_threshs[nlevels - 1] = (\n",
    "        sigma[nlevels - 1] * np.sqrt(2 * np.log(num_samples))\n",
    "    ) / np.sqrt(nlevels - 1)\n",
    "    return details_threshs\n",
    "\n",
    "\n",
    "def determine_threshold(\n",
    "    trace: np.array,\n",
    "    threshold: str = \"han\",\n",
    "    sigma: np.array = None,\n",
    "    coeffs: np.array = None,\n",
    "    nlevels: int = None,\n",
    "):\n",
    "    if threshold == \"universal\":\n",
    "        thr = get_universal_threshold(trace)\n",
    "    elif threshold == \"han\":\n",
    "        thr = get_han_threshold(trace, sigma, coeffs, nlevels)\n",
    "    else:\n",
    "        raise NotImplementedError(\"Choose an implemented threshold!\")\n",
    "    return thr"
   ]
  },
  {
   "cell_type": "markdown",
   "metadata": {},
   "source": [
    "### Load Quiroga's dataset\n",
    "\n",
    "* url: http://www.spikesorting.com/simulated-data.aspx\n",
    "* sampling frequency: 16 Khz"
   ]
  },
  {
   "cell_type": "code",
   "execution_count": 3,
   "metadata": {},
   "outputs": [
    {
     "name": "stdout",
     "output_type": "stream",
     "text": [
      "  % Total    % Received % Xferd  Average Speed   Time    Time     Time  Current\n",
      "                                 Dload  Upload   Total   Spent    Left  Speed\n",
      "  0     0    0     0    0     0      0      0 --:--:-- --:--:-- --:--:--     0"
     ]
    },
    {
     "name": "stdout",
     "output_type": "stream",
     "text": [
      "100 37.0M  100 37.0M    0     0  26.1M      0  0:00:01  0:00:01 --:--:-- 26.1M\n"
     ]
    }
   ],
   "source": [
    "# download simulated dataset 01\n",
    "!curl -o ../dataset/data_01.txt http://www.spikesorting.com/Data/Sites/1/download/simdata/Quiroga/01%20Example%201%20-%200-05/data_01.txt\n",
    "\n",
    "# get project path\n",
    "os.chdir(\"../\")\n",
    "proj_path = os.getcwd()"
   ]
  },
  {
   "cell_type": "code",
   "execution_count": 4,
   "metadata": {},
   "outputs": [],
   "source": [
    "# dataset parameters\n",
    "SFREQ = 16000\n",
    "nyquist = SFREQ / 2"
   ]
  },
  {
   "cell_type": "code",
   "execution_count": 5,
   "metadata": {},
   "outputs": [
    {
     "name": "stdout",
     "output_type": "stream",
     "text": [
      "duration: 90.0 secs\n",
      "number of samples: 1440000\n"
     ]
    },
    {
     "data": {
      "text/plain": [
       "array([-0.05265172, -0.03124187, -0.00282162, ...,  0.01798155,\n",
       "        0.01678863,  0.0119459 ])"
      ]
     },
     "execution_count": 5,
     "metadata": {},
     "output_type": "execute_result"
    }
   ],
   "source": [
    "# load dataset\n",
    "trace_01 = np.loadtxt(proj_path + \"/dataset/data_01.txt\")\n",
    "tmp_trace = trace_01.copy()\n",
    "\n",
    "# describe\n",
    "duration_secs = len(tmp_trace) / SFREQ\n",
    "num_samples = len(tmp_trace)\n",
    "print(\"duration:\", duration_secs, \"secs\")\n",
    "print(\"number of samples:\", num_samples)\n",
    "\n",
    "tmp_trace"
   ]
  },
  {
   "cell_type": "markdown",
   "metadata": {},
   "source": [
    "### 1. Parametrize\n",
    "\n",
    "The maximum frequency of the lowest frequency band ($F_c$) is given by:\n",
    "        \n",
    "$$F_c = Nq/(2^{NLEVEL})$$\n",
    "\n",
    "where Nq is the Nyquist frequency of the signal (its sampling frequency/2) and NLEVEL is the number of decomposition levels of the wavelet transform.\n",
    "\n",
    "We chose the decomposition level NLEVEL=6 that produces the lowest frequency band between 0 and 250 Hz \n"
   ]
  },
  {
   "cell_type": "code",
   "execution_count": 6,
   "metadata": {},
   "outputs": [
    {
     "name": "stdout",
     "output_type": "stream",
     "text": [
      "Cutoff frequency for high-pass filtering : 250.0 Hz\n"
     ]
    }
   ],
   "source": [
    "# TODO:\n",
    "# - implement Han et al., threshold\n",
    "# - clear approximation threshold\n",
    "\n",
    "WAVELET = \"haar\"\n",
    "NLEVEL = 5\n",
    "THRESH = \"han\"  # \"universal\"\n",
    "THRESH_METHOD = \"hard\"  # 'soft'\n",
    "RECON_MODE = \"zero\"  # 'smooth', \"symmetric\", \"antisymmetric\", \"zero\", \"constant\", \"periodic\", \"reflect\",\n",
    "\n",
    "# calculate cutoff frequency\n",
    "freq_cutoff = nyquist / 2**NLEVEL  # cutoff frequency (the max of lowest freq. band)\n",
    "print(\"Cutoff frequency for high-pass filtering :\", freq_cutoff, \"Hz\")"
   ]
  },
  {
   "cell_type": "markdown",
   "metadata": {},
   "source": [
    "### 2. Preprocess"
   ]
  },
  {
   "cell_type": "code",
   "execution_count": 51,
   "metadata": {},
   "outputs": [],
   "source": [
    "# detrend\n",
    "detrended = detrend(tmp_trace)\n",
    "\n",
    "# normalize data\n",
    "scaler = MinMaxScaler(feature_range=(0, 1), copy=True)\n",
    "detrended = scaler.fit_transform(detrended.reshape(-1, 1))[:, 0]\n",
    "normalized = detrended.copy()"
   ]
  },
  {
   "cell_type": "markdown",
   "metadata": {},
   "source": [
    "### 3. Wavelet transform"
   ]
  },
  {
   "cell_type": "code",
   "execution_count": 52,
   "metadata": {},
   "outputs": [
    {
     "name": "stdout",
     "output_type": "stream",
     "text": [
      "approximation coefficients: [2.83647772 2.84106911 2.84452235 ... 2.83109023 2.83292184 2.83465441]\n",
      "details coefficients: [array([-0.00950856, -0.00603211, -0.00248562, ..., -0.01120825,\n",
      "       -0.0104237 , -0.00988739]), array([-0.01276296,  0.00053794,  0.0101203 , ..., -0.03684457,\n",
      "       -0.03087185, -0.02255869]), array([-0.0351023 , -0.02894606, -0.01932213, ..., -0.00506488,\n",
      "       -0.019433  , -0.0299413 ]), array([-0.01386091, -0.01500663, -0.01406618, ...,  0.00959663,\n",
      "        0.01430558, -0.00087641]), array([-0.00386154, -0.00512596, -0.00548882, ...,  0.00021516,\n",
      "        0.00087345,  0.01160962])]\n"
     ]
    }
   ],
   "source": [
    "# find the nearest even integer to input signal's length\n",
    "size = NearestEvenInteger(normalized.shape[0])\n",
    "\n",
    "# initialize filter\n",
    "wavelet = Wavelet(WAVELET)\n",
    "\n",
    "# compute Wavelet coefficients\n",
    "# coeffs = wavedec(normalized[:size], wavelet, level=NLEVEL)\n",
    "\n",
    "# translation-invariance modification of the Discrete Wavelet Transform\n",
    "# that does not decimate coefficients at every transformation level.\n",
    "coeffs = pywt.swt(normalized[:size], wavelet, level=NLEVEL, trim_approx=True)\n",
    "coeffs_raw = coeffs.copy()\n",
    "\n",
    "# print approximation and details coefficients\n",
    "print(\"approximation coefficients:\", coeffs_raw[0])\n",
    "print(\"details coefficients:\", coeffs_raw[1:])"
   ]
  },
  {
   "cell_type": "markdown",
   "metadata": {},
   "source": [
    "### 4. Denoise"
   ]
  },
  {
   "cell_type": "code",
   "execution_count": 65,
   "metadata": {},
   "outputs": [],
   "source": [
    "THRESH = \"han\"\n",
    "\n",
    "# estimate the wavelet coefficients standard deviations\n",
    "sigma = std(coeffs[1:], nlevel=NLEVEL)\n",
    "\n",
    "# determine the thresholds of the coefficients per level ('universal')\n",
    "# threshs = [\n",
    "#     determine_threshold(\n",
    "#         trace=coeffs[1 + level] / sigma[level],\n",
    "#         threshold=THRESH,\n",
    "#         sigma=sigma,\n",
    "#         coeffs=coeffs,\n",
    "#         nlevels=NLEVEL,\n",
    "#     )\n",
    "#     * sigma[level]\n",
    "#     for level in range(NLEVEL)\n",
    "# ]\n",
    "\n",
    "# determine the thresholds of the coefficients per level ('han')\n",
    "threshs = get_han_threshold(\n",
    "    trace=tmp_trace,\n",
    "    sigma=sigma,\n",
    "    coeffs=coeffs,\n",
    "    nlevels=NLEVEL,\n",
    ")\n",
    "\n",
    "# a list of 5 thresholds for \"universal\"\n",
    "# apply the thresholds to the detail coeffs\n",
    "coeffs[1:] = [\n",
    "    threshold(coeff_i, value=threshs[i], mode=THRESH_METHOD)\n",
    "    for i, coeff_i in enumerate(coeffs[1:])\n",
    "]"
   ]
  },
  {
   "cell_type": "code",
   "execution_count": 67,
   "metadata": {},
   "outputs": [],
   "source": [
    "# reconstruct and reverse normalize\n",
    "# denoised_trace = waverec(coeffs, filter, mode=RECON_MODE)\n",
    "# denoised_trace = scaler.inverse_transform(denoised_trace.reshape(-1, 1))[:, 0]\n",
    "\n",
    "# reconstruct and reverse normalize\n",
    "denoised_trace = pywt.iswt(coeffs, wavelet)\n",
    "denoised_trace = scaler.inverse_transform(denoised_trace.reshape(-1, 1))[:, 0]"
   ]
  },
  {
   "cell_type": "markdown",
   "metadata": {},
   "source": [
    "### 5. High-pass filter\n",
    "\n",
    "* High-pass filtering with NLEVEL = 5 decomposition levels is removing the lowest frequency band from 0-1600 Hz ((16000/2) / 5 = 1600 Hz)."
   ]
  },
  {
   "cell_type": "code",
   "execution_count": 68,
   "metadata": {},
   "outputs": [],
   "source": [
    "# clear approximation coefficients (set to 0)\n",
    "coeffs[0] = np.zeros(len(coeffs[0]))\n",
    "\n",
    "# sanity check\n",
    "assert sum(coeffs[0]) == 0, \"not cleared\""
   ]
  },
  {
   "cell_type": "markdown",
   "metadata": {},
   "source": [
    "### 6. Reconstruct trace"
   ]
  },
  {
   "cell_type": "code",
   "execution_count": 69,
   "metadata": {},
   "outputs": [],
   "source": [
    "# reconstruct and reverse normalize\n",
    "# denoised_trace = waverec(coeffs, filter, mode=RECON_MODE)\n",
    "# denoised_trace = scaler.inverse_transform(denoised_trace.reshape(-1, 1))[:, 0]\n",
    "\n",
    "# reconstruct and reverse normalize\n",
    "denoised_trace = pywt.iswt(coeffs, wavelet)\n",
    "denoised_trace = scaler.inverse_transform(denoised_trace.reshape(-1, 1))[:, 0]"
   ]
  },
  {
   "cell_type": "markdown",
   "metadata": {},
   "source": [
    "### Plot"
   ]
  },
  {
   "cell_type": "markdown",
   "metadata": {},
   "source": [
    "#### Traces in the time domain"
   ]
  },
  {
   "cell_type": "code",
   "execution_count": 70,
   "metadata": {},
   "outputs": [
    {
     "data": {
      "image/png": "[encoded data removed]",
      "text/plain": [
       "<Figure size 1000x500 with 2 Axes>"
      ]
     },
     "metadata": {},
     "output_type": "display_data"
    }
   ],
   "source": [
    "fig = plt.figure(figsize=(10, 5))\n",
    "\n",
    "# raw\n",
    "ax = fig.add_subplot(211)\n",
    "ax.plot(tmp_trace[200:800])\n",
    "ax.set_title(\"Raw signal\")\n",
    "\n",
    "# denoised\n",
    "ax = fig.add_subplot(212)\n",
    "ax.plot(denoised_trace[200:800])\n",
    "ax.set_title(\"Denoised signal\")\n",
    "\n",
    "plt.tight_layout()"
   ]
  },
  {
   "cell_type": "markdown",
   "metadata": {},
   "source": [
    "#### Power spectrum"
   ]
  },
  {
   "cell_type": "code",
   "execution_count": 71,
   "metadata": {},
   "outputs": [
    {
     "data": {
      "image/png": "[encoded data removed]",
      "text/plain": [
       "<Figure size 1000x300 with 2 Axes>"
      ]
     },
     "metadata": {},
     "output_type": "display_data"
    }
   ],
   "source": [
    "fs = 16e3  # 16 KHz sampling frequency\n",
    "\n",
    "fig, axes = plt.subplots(1, 2, figsize=(10, 3))\n",
    "\n",
    "# Welch method\n",
    "freqs, powers = signal.welch(tmp_trace, fs, nperseg=1024)\n",
    "axes[0].plot(freqs, powers)\n",
    "axes[0].semilogy(basex=10)\n",
    "axes[0].semilogx(basey=10)\n",
    "axes[0].set_xlabel(\"frequency [Hz]\")\n",
    "axes[0].set_ylabel(\"PSD [V**2/Hz]\")\n",
    "\n",
    "\n",
    "# Welch method\n",
    "freqs, powers = signal.welch(denoised_trace, fs, nperseg=1024)\n",
    "axes[1].plot(freqs, powers)\n",
    "axes[1].semilogy(basex=10)\n",
    "axes[1].semilogx(basey=10)\n",
    "axes[1].set_ylim([1e-12, 1e-4])\n",
    "axes[1].set_xlabel(\"frequency [Hz]\")\n",
    "axes[1].set_ylabel(\"PSD [V**2/Hz]\")\n",
    "\n",
    "plt.tight_layout()"
   ]
  },
  {
   "cell_type": "markdown",
   "metadata": {},
   "source": [
    "# References\n",
    "\n",
    "(1) Wiltschko, Gage, and Berke, “Wavelet Filtering before Spike Detection Preserves Waveform Shape and Enhances Single-Unit Discrimination.” J Neurosci Methods (2008).\n",
    "\n",
    "(2) Baldazzi et al., “Systematic Analysis of Wavelet Denoising Methods for Neural Signal Processing.”, Journal of Neural Engineering (2020)"
   ]
  }
 ],
 "metadata": {
  "kernelspec": {
   "display_name": "wavelet_denoise",
   "language": "python",
   "name": "python3"
  },
  "language_info": {
   "codemirror_mode": {
    "name": "ipython",
    "version": 3
   },
   "file_extension": ".py",
   "mimetype": "text/x-python",
   "name": "python",
   "nbconvert_exporter": "python",
   "pygments_lexer": "ipython3",
   "version": "3.9.7"
  }
 },
 "nbformat": 4,
 "nbformat_minor": 2
}
